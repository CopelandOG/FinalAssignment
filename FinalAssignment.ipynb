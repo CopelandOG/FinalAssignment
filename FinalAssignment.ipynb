{
  "metadata": {
    "language_info": {
      "codemirror_mode": {
        "name": "python",
        "version": 3
      },
      "file_extension": ".py",
      "mimetype": "text/x-python",
      "name": "python",
      "nbconvert_exporter": "python",
      "pygments_lexer": "ipython3",
      "version": "3.8"
    },
    "kernelspec": {
      "name": "python",
      "display_name": "Pyolite",
      "language": "python"
    }
  },
  "nbformat_minor": 4,
  "nbformat": 4,
  "cells": [
    {
      "cell_type": "markdown",
      "source": "# \"My Jupyter Notebook on IBM Watson Studio\"",
      "metadata": {}
    },
    {
      "cell_type": "markdown",
      "source": "#### **Kevin Copeland**\n#### Financial Data Analyst",
      "metadata": {}
    },
    {
      "cell_type": "markdown",
      "source": "*I am interested in data science because I like working with large data sets and analyzing them. I would like to improve my ability to analyze large data sets and this course does just that.*",
      "metadata": {}
    },
    {
      "cell_type": "markdown",
      "source": "### The following code will return the value of a mathematical equation. The result should be 2.",
      "metadata": {}
    },
    {
      "cell_type": "code",
      "source": "1+1",
      "metadata": {
        "trusted": true
      },
      "execution_count": 1,
      "outputs": [
        {
          "execution_count": 1,
          "output_type": "execute_result",
          "data": {
            "text/plain": "2"
          },
          "metadata": {}
        }
      ]
    },
    {
      "cell_type": "markdown",
      "source": "1. Item #1\n2. Item #2\n3. Item #3\n4. Item #4\n\n|Column #1|Column #2|Column #3|Column #4|\n|---------|---------|---------|---------|\n|cell|cell|cell|cell|\n|cell|cell|cell|cell|\n|cell|cell|cell|cell|\n\n~~Strikethrough~~",
      "metadata": {}
    },
    {
      "cell_type": "code",
      "source": "",
      "metadata": {},
      "execution_count": null,
      "outputs": []
    }
  ]
}